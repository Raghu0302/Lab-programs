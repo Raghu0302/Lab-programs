{
 "cells": [
  {
   "cell_type": "code",
   "execution_count": 13,
   "metadata": {},
   "outputs": [],
   "source": [
    "import string\n",
    "def cnt():\n",
    "    count_dct={}\n",
    "    new_book=[]\n",
    "    f=open(\"book.txt\",\"r\",encoding=\"UTF-8\")\n",
    "    for i in f:\n",
    "        line=i.strip(string.punctuation+string.whitespace)\n",
    "        line=line.lower().split()\n",
    "        \n",
    "        new_book+=line\n",
    "    print(\"total number of words in the book are :\")\n",
    "    print(len(new_book))\n",
    "    for val in new_book:\n",
    "        count_dct[val]=count_dct.get(val,0)\n",
    "    print(\"\\ntotal different words are:\")\n",
    "    print(len(count_dct.keys()))\n",
    "#         print(val)\n",
    "#     return new_book"
   ]
  },
  {
   "cell_type": "code",
   "execution_count": 14,
   "metadata": {},
   "outputs": [
    {
     "name": "stdout",
     "output_type": "stream",
     "text": [
      "total number of words in the book are :\n",
      "38675\n",
      "\n",
      "total different words are:\n",
      "12925\n"
     ]
    }
   ],
   "source": [
    "cnt()"
   ]
  },
  {
   "cell_type": "code",
   "execution_count": null,
   "metadata": {},
   "outputs": [],
   "source": []
  }
 ],
 "metadata": {
  "kernelspec": {
   "display_name": "Python 3",
   "language": "python",
   "name": "python3"
  },
  "language_info": {
   "codemirror_mode": {
    "name": "ipython",
    "version": 3
   },
   "file_extension": ".py",
   "mimetype": "text/x-python",
   "name": "python",
   "nbconvert_exporter": "python",
   "pygments_lexer": "ipython3",
   "version": "3.7.6"
  }
 },
 "nbformat": 4,
 "nbformat_minor": 4
}
