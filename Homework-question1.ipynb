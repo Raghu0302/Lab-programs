{
 "cells": [
  {
   "cell_type": "code",
   "execution_count": 15,
   "metadata": {
    "colab": {},
    "colab_type": "code",
    "id": "4KrWL68GhXHj"
   },
   "outputs": [],
   "source": [
    "import string\n",
    "def word_lst():\n",
    "    f = open('book.txt', 'r', encoding = 'UTF-8')\n",
    "    words = open('words.txt','r')\n",
    "    lst= []\n",
    "    words1=dict()\n",
    "    words1=words\n",
    "    book = {}\n",
    "    for i in fout: \n",
    "        new_book = i.split(\" \")  \n",
    "        for char in new_book:\n",
    "            word= char.lower()\n",
    "            x=string.whitespace\n",
    "            y=string.punctuation\n",
    "            clean_word = word.strip(x+y)\n",
    "            lower= clean_word.lower()\n",
    "            book = lower\n",
    "            for char in words1:\n",
    "                if lower not in char:\n",
    "                    lst = char\n",
    "                else:\n",
    "                    pass \n",
    "            print(lst)  \n"
   ]
  },
  {
   "cell_type": "code",
   "execution_count": 18,
   "metadata": {
    "colab": {},
    "colab_type": "code",
    "id": "9wirz-jHGucg"
   },
   "outputs": [],
   "source": [
    "word_lst()"
   ]
  },
  {
   "cell_type": "code",
   "execution_count": 0,
   "metadata": {
    "colab": {},
    "colab_type": "code",
    "id": "-Fx3ouA1Hq09"
   },
   "outputs": [],
   "source": []
  }
 ],
 "metadata": {
  "colab": {
   "name": "Untitled11.ipynb",
   "provenance": []
  },
  "kernelspec": {
   "display_name": "Python 3",
   "language": "python",
   "name": "python3"
  },
  "language_info": {
   "codemirror_mode": {
    "name": "ipython",
    "version": 3
   },
   "file_extension": ".py",
   "mimetype": "text/x-python",
   "name": "python",
   "nbconvert_exporter": "python",
   "pygments_lexer": "ipython3",
   "version": "3.7.6"
  }
 },
 "nbformat": 4,
 "nbformat_minor": 1
}
